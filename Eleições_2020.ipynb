{
 "cells": [
  {
   "cell_type": "code",
   "execution_count": 3,
   "metadata": {},
   "outputs": [],
   "source": [
    "import pandas as pd\n",
    "low_memory=False\n",
    "%matplotlib inline\n",
    "pd.options.display.max_columns = 80\n",
    "pd.options.display.max_rows = 90"
   ]
  },
  {
   "cell_type": "code",
   "execution_count": 4,
   "metadata": {},
   "outputs": [],
   "source": [
    "filename = r'C:\\Users\\Jessica\\Downloads\\consulta_cand_2020\\consulta_cand_2020_ES.csv'\n",
    "df = pd.read_csv(filename, delimiter=';', \n",
    "                 usecols='DS_CARGO CD_CARGO DS_SITUACAO_CANDIDATURA SG_PARTIDO CD_GENERO DS_GENERO CD_COR_RACA DS_COR_RACA VR_DESPESA_MAX_CAMPANHA ST_REELEICAO'.split(),\n",
    "                 encoding='ISO-8859-1',\n",
    "                 error_bad_lines=False)"
   ]
  },
  {
   "cell_type": "code",
   "execution_count": 4,
   "metadata": {},
   "outputs": [
    {
     "data": {
      "text/plain": [
       "(12589, 10)"
      ]
     },
     "execution_count": 4,
     "metadata": {},
     "output_type": "execute_result"
    }
   ],
   "source": [
    "df.shape"
   ]
  },
  {
   "cell_type": "code",
   "execution_count": 5,
   "metadata": {},
   "outputs": [
    {
     "name": "stdout",
     "output_type": "stream",
     "text": [
      "<class 'pandas.core.frame.DataFrame'>\n",
      "RangeIndex: 12589 entries, 0 to 12588\n",
      "Data columns (total 10 columns):\n",
      " #   Column                   Non-Null Count  Dtype \n",
      "---  ------                   --------------  ----- \n",
      " 0   CD_CARGO                 12589 non-null  int64 \n",
      " 1   DS_CARGO                 12589 non-null  object\n",
      " 2   DS_SITUACAO_CANDIDATURA  12589 non-null  object\n",
      " 3   SG_PARTIDO               12589 non-null  object\n",
      " 4   CD_GENERO                12589 non-null  int64 \n",
      " 5   DS_GENERO                12589 non-null  object\n",
      " 6   CD_COR_RACA              12589 non-null  int64 \n",
      " 7   DS_COR_RACA              12589 non-null  object\n",
      " 8   VR_DESPESA_MAX_CAMPANHA  12589 non-null  int64 \n",
      " 9   ST_REELEICAO             12589 non-null  object\n",
      "dtypes: int64(4), object(6)\n",
      "memory usage: 983.6+ KB\n"
     ]
    }
   ],
   "source": [
    "df.info()"
   ]
  },
  {
   "cell_type": "code",
   "execution_count": 6,
   "metadata": {},
   "outputs": [
    {
     "name": "stdout",
     "output_type": "stream",
     "text": [
      "(0, 'CD_CARGO')\n",
      "(1, 'DS_CARGO')\n",
      "(2, 'DS_SITUACAO_CANDIDATURA')\n",
      "(3, 'SG_PARTIDO')\n",
      "(4, 'CD_GENERO')\n",
      "(5, 'DS_GENERO')\n",
      "(6, 'CD_COR_RACA')\n",
      "(7, 'DS_COR_RACA')\n",
      "(8, 'VR_DESPESA_MAX_CAMPANHA')\n",
      "(9, 'ST_REELEICAO')\n"
     ]
    }
   ],
   "source": [
    "for par in enumerate(df.columns): print (par)"
   ]
  },
  {
   "cell_type": "code",
   "execution_count": 7,
   "metadata": {
    "scrolled": true
   },
   "outputs": [
    {
     "data": {
      "text/html": [
       "<div>\n",
       "<style scoped>\n",
       "    .dataframe tbody tr th:only-of-type {\n",
       "        vertical-align: middle;\n",
       "    }\n",
       "\n",
       "    .dataframe tbody tr th {\n",
       "        vertical-align: top;\n",
       "    }\n",
       "\n",
       "    .dataframe thead th {\n",
       "        text-align: right;\n",
       "    }\n",
       "</style>\n",
       "<table border=\"1\" class=\"dataframe\">\n",
       "  <thead>\n",
       "    <tr style=\"text-align: right;\">\n",
       "      <th></th>\n",
       "      <th>CD_CARGO</th>\n",
       "      <th>DS_CARGO</th>\n",
       "      <th>DS_SITUACAO_CANDIDATURA</th>\n",
       "      <th>SG_PARTIDO</th>\n",
       "      <th>CD_GENERO</th>\n",
       "      <th>DS_GENERO</th>\n",
       "      <th>CD_COR_RACA</th>\n",
       "      <th>DS_COR_RACA</th>\n",
       "      <th>VR_DESPESA_MAX_CAMPANHA</th>\n",
       "      <th>ST_REELEICAO</th>\n",
       "    </tr>\n",
       "  </thead>\n",
       "  <tbody>\n",
       "    <tr>\n",
       "      <th>4395</th>\n",
       "      <td>13</td>\n",
       "      <td>VEREADOR</td>\n",
       "      <td>APTO</td>\n",
       "      <td>DEM</td>\n",
       "      <td>4</td>\n",
       "      <td>FEMININO</td>\n",
       "      <td>1</td>\n",
       "      <td>BRANCA</td>\n",
       "      <td>12308</td>\n",
       "      <td>N</td>\n",
       "    </tr>\n",
       "    <tr>\n",
       "      <th>7237</th>\n",
       "      <td>13</td>\n",
       "      <td>VEREADOR</td>\n",
       "      <td>APTO</td>\n",
       "      <td>PP</td>\n",
       "      <td>2</td>\n",
       "      <td>MASCULINO</td>\n",
       "      <td>3</td>\n",
       "      <td>PARDA</td>\n",
       "      <td>46136</td>\n",
       "      <td>N</td>\n",
       "    </tr>\n",
       "    <tr>\n",
       "      <th>4227</th>\n",
       "      <td>13</td>\n",
       "      <td>VEREADOR</td>\n",
       "      <td>APTO</td>\n",
       "      <td>PSB</td>\n",
       "      <td>4</td>\n",
       "      <td>FEMININO</td>\n",
       "      <td>1</td>\n",
       "      <td>BRANCA</td>\n",
       "      <td>20446</td>\n",
       "      <td>N</td>\n",
       "    </tr>\n",
       "    <tr>\n",
       "      <th>8716</th>\n",
       "      <td>13</td>\n",
       "      <td>VEREADOR</td>\n",
       "      <td>INAPTO</td>\n",
       "      <td>PATRIOTA</td>\n",
       "      <td>2</td>\n",
       "      <td>MASCULINO</td>\n",
       "      <td>3</td>\n",
       "      <td>PARDA</td>\n",
       "      <td>100725</td>\n",
       "      <td>N</td>\n",
       "    </tr>\n",
       "    <tr>\n",
       "      <th>1777</th>\n",
       "      <td>13</td>\n",
       "      <td>VEREADOR</td>\n",
       "      <td>APTO</td>\n",
       "      <td>PV</td>\n",
       "      <td>4</td>\n",
       "      <td>FEMININO</td>\n",
       "      <td>1</td>\n",
       "      <td>BRANCA</td>\n",
       "      <td>24479</td>\n",
       "      <td>N</td>\n",
       "    </tr>\n",
       "    <tr>\n",
       "      <th>4334</th>\n",
       "      <td>13</td>\n",
       "      <td>VEREADOR</td>\n",
       "      <td>APTO</td>\n",
       "      <td>PT</td>\n",
       "      <td>2</td>\n",
       "      <td>MASCULINO</td>\n",
       "      <td>1</td>\n",
       "      <td>BRANCA</td>\n",
       "      <td>25489</td>\n",
       "      <td>N</td>\n",
       "    </tr>\n",
       "    <tr>\n",
       "      <th>8693</th>\n",
       "      <td>13</td>\n",
       "      <td>VEREADOR</td>\n",
       "      <td>APTO</td>\n",
       "      <td>PSDB</td>\n",
       "      <td>2</td>\n",
       "      <td>MASCULINO</td>\n",
       "      <td>3</td>\n",
       "      <td>PARDA</td>\n",
       "      <td>102310</td>\n",
       "      <td>N</td>\n",
       "    </tr>\n",
       "    <tr>\n",
       "      <th>12427</th>\n",
       "      <td>13</td>\n",
       "      <td>VEREADOR</td>\n",
       "      <td>APTO</td>\n",
       "      <td>SOLIDARIEDADE</td>\n",
       "      <td>2</td>\n",
       "      <td>MASCULINO</td>\n",
       "      <td>3</td>\n",
       "      <td>PARDA</td>\n",
       "      <td>102310</td>\n",
       "      <td>N</td>\n",
       "    </tr>\n",
       "    <tr>\n",
       "      <th>7443</th>\n",
       "      <td>13</td>\n",
       "      <td>VEREADOR</td>\n",
       "      <td>APTO</td>\n",
       "      <td>PODE</td>\n",
       "      <td>2</td>\n",
       "      <td>MASCULINO</td>\n",
       "      <td>3</td>\n",
       "      <td>PARDA</td>\n",
       "      <td>89004</td>\n",
       "      <td>N</td>\n",
       "    </tr>\n",
       "    <tr>\n",
       "      <th>6068</th>\n",
       "      <td>13</td>\n",
       "      <td>VEREADOR</td>\n",
       "      <td>APTO</td>\n",
       "      <td>PTC</td>\n",
       "      <td>4</td>\n",
       "      <td>FEMININO</td>\n",
       "      <td>3</td>\n",
       "      <td>PARDA</td>\n",
       "      <td>88973</td>\n",
       "      <td>N</td>\n",
       "    </tr>\n",
       "  </tbody>\n",
       "</table>\n",
       "</div>"
      ],
      "text/plain": [
       "       CD_CARGO  DS_CARGO DS_SITUACAO_CANDIDATURA     SG_PARTIDO  CD_GENERO  \\\n",
       "4395         13  VEREADOR                    APTO            DEM          4   \n",
       "7237         13  VEREADOR                    APTO             PP          2   \n",
       "4227         13  VEREADOR                    APTO            PSB          4   \n",
       "8716         13  VEREADOR                  INAPTO       PATRIOTA          2   \n",
       "1777         13  VEREADOR                    APTO             PV          4   \n",
       "4334         13  VEREADOR                    APTO             PT          2   \n",
       "8693         13  VEREADOR                    APTO           PSDB          2   \n",
       "12427        13  VEREADOR                    APTO  SOLIDARIEDADE          2   \n",
       "7443         13  VEREADOR                    APTO           PODE          2   \n",
       "6068         13  VEREADOR                    APTO            PTC          4   \n",
       "\n",
       "       DS_GENERO  CD_COR_RACA DS_COR_RACA  VR_DESPESA_MAX_CAMPANHA  \\\n",
       "4395    FEMININO            1      BRANCA                    12308   \n",
       "7237   MASCULINO            3       PARDA                    46136   \n",
       "4227    FEMININO            1      BRANCA                    20446   \n",
       "8716   MASCULINO            3       PARDA                   100725   \n",
       "1777    FEMININO            1      BRANCA                    24479   \n",
       "4334   MASCULINO            1      BRANCA                    25489   \n",
       "8693   MASCULINO            3       PARDA                   102310   \n",
       "12427  MASCULINO            3       PARDA                   102310   \n",
       "7443   MASCULINO            3       PARDA                    89004   \n",
       "6068    FEMININO            3       PARDA                    88973   \n",
       "\n",
       "      ST_REELEICAO  \n",
       "4395             N  \n",
       "7237             N  \n",
       "4227             N  \n",
       "8716             N  \n",
       "1777             N  \n",
       "4334             N  \n",
       "8693             N  \n",
       "12427            N  \n",
       "7443             N  \n",
       "6068             N  "
      ]
     },
     "execution_count": 7,
     "metadata": {},
     "output_type": "execute_result"
    }
   ],
   "source": [
    "df.sample(10)"
   ]
  },
  {
   "cell_type": "markdown",
   "metadata": {},
   "source": [
    "De acordo com os dados da matéria da BBC [Direita ou esquerda? Análise de votações indica posição de partidos brasileiros no espectro ideológico](https://www.bbc.com/portuguese/brasil-41058120) de 2017, será a base nessa análise os partidos definidos de cada posição."
   ]
  },
  {
   "cell_type": "code",
   "execution_count": 5,
   "metadata": {},
   "outputs": [],
   "source": [
    "partidos_esquerda = ['PDT', 'PTDOB', 'PCDOB', 'PT', 'PROS', 'PSB', 'REDE', 'PSOL']\n",
    "partidos_direita = ['PSL', 'PRP', 'PR', 'PRB', 'PMDB', 'PTB', 'PP', 'DEM', 'SD', 'PSD', 'PHS', 'PODE', 'PSC', 'PSDB', 'PEN', 'PPS', 'PV']"
   ]
  },
  {
   "cell_type": "code",
   "execution_count": 15,
   "metadata": {
    "scrolled": true
   },
   "outputs": [
    {
     "name": "stdout",
     "output_type": "stream",
     "text": [
      "['PSL', 'PRP', 'PR', 'PRB', 'PMDB', 'PTB', 'PP', 'DEM', 'SD', 'PSD', 'PHS', 'PODE', 'PSC', 'PSDB', 'PEN', 'PPS', 'PV']\n"
     ]
    }
   ],
   "source": [
    "print(partidos_direita)"
   ]
  },
  {
   "cell_type": "code",
   "execution_count": 10,
   "metadata": {},
   "outputs": [
    {
     "data": {
      "text/plain": [
       "<AxesSubplot:ylabel='DS_COR_RACA'>"
      ]
     },
     "execution_count": 10,
     "metadata": {},
     "output_type": "execute_result"
    },
    {
     "data": {
      "image/png": "[encoded data removed]",
      "text/plain": [
       "<Figure size 432x288 with 1 Axes>"
      ]
     },
     "metadata": {
      "needs_background": "light"
     },
     "output_type": "display_data"
    }
   ],
   "source": [
    "df.query('SG_PARTIDO in @partidos_direita and DS_SITUACAO_CANDIDATURA == \"APTO\" and ST_REELEICAO == \"N\"').groupby('DS_COR_RACA').size().sort_values().plot(kind='barh')"
   ]
  },
  {
   "cell_type": "code",
   "execution_count": 11,
   "metadata": {},
   "outputs": [
    {
     "data": {
      "text/plain": [
       "<AxesSubplot:ylabel='DS_COR_RACA'>"
      ]
     },
     "execution_count": 11,
     "metadata": {},
     "output_type": "execute_result"
    },
    {
     "data": {
      "image/png": "[encoded data removed]",
      "text/plain": [
       "<Figure size 432x288 with 1 Axes>"
      ]
     },
     "metadata": {
      "needs_background": "light"
     },
     "output_type": "display_data"
    }
   ],
   "source": [
    "df.query('SG_PARTIDO in @partidos_esquerda and DS_SITUACAO_CANDIDATURA == \"APTO\" and ST_REELEICAO == \"N\"').groupby('DS_COR_RACA').size().sort_values().plot(kind='barh')"
   ]
  },
  {
   "cell_type": "code",
   "execution_count": 12,
   "metadata": {},
   "outputs": [
    {
     "data": {
      "text/plain": [
       "<AxesSubplot:ylabel='None'>"
      ]
     },
     "execution_count": 12,
     "metadata": {},
     "output_type": "execute_result"
    },
    {
     "data": {
      "image/png": "[encoded data removed]",
      "text/plain": [
       "<Figure size 432x288 with 1 Axes>"
      ]
     },
     "metadata": {},
     "output_type": "display_data"
    }
   ],
   "source": [
    "df.query('DS_SITUACAO_CANDIDATURA == \"APTO\" and SG_PARTIDO in @partidos_direita and ST_REELEICAO == \"N\"').groupby('DS_GENERO').size().sort_values().plot(kind='pie')"
   ]
  },
  {
   "cell_type": "code",
   "execution_count": 13,
   "metadata": {},
   "outputs": [
    {
     "data": {
      "text/plain": [
       "<AxesSubplot:ylabel='None'>"
      ]
     },
     "execution_count": 13,
     "metadata": {},
     "output_type": "execute_result"
    },
    {
     "data": {
      "image/png": "[encoded data removed]",
      "text/plain": [
       "<Figure size 432x288 with 1 Axes>"
      ]
     },
     "metadata": {},
     "output_type": "display_data"
    }
   ],
   "source": [
    "df.query('DS_SITUACAO_CANDIDATURA == \"APTO\" and SG_PARTIDO in @partidos_direita and ST_REELEICAO == \"N\"').groupby('DS_GENERO').size().sort_values().plot(kind='pie')"
   ]
  },
  {
   "cell_type": "code",
   "execution_count": null,
   "metadata": {},
   "outputs": [],
   "source": []
  }
 ],
 "metadata": {
  "kernelspec": {
   "display_name": "Python 3",
   "language": "python",
   "name": "python3"
  },
  "language_info": {
   "codemirror_mode": {
    "name": "ipython",
    "version": 3
   },
   "file_extension": ".py",
   "mimetype": "text/x-python",
   "name": "python",
   "nbconvert_exporter": "python",
   "pygments_lexer": "ipython3",
   "version": "3.8.2"
  }
 },
 "nbformat": 4,
 "nbformat_minor": 4
}
